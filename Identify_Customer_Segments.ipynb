{
 "cells": [
  {
   "cell_type": "markdown",
   "metadata": {},
   "source": [
    "# Project: Identify Customer Segments\n",
    "\n",
    "In this project, you will apply unsupervised learning techniques to identify segments of the population that form the core customer base for a mail-order sales company in Germany. These segments can then be used to direct marketing campaigns towards audiences that will have the highest expected rate of returns. The data that you will use has been provided by our partners at Bertelsmann Arvato Analytics, and represents a real-life data science task.\n",
    "\n",
    "This notebook will help you complete this task by providing a framework within which you will perform your analysis steps. In each step of the project, you will see some text describing the subtask that you will perform, followed by one or more code cells for you to complete your work. **Feel free to add additional code and markdown cells as you go along so that you can explore everything in precise chunks.** The code cells provided in the base template will outline only the major tasks, and will usually not be enough to cover all of the minor tasks that comprise it.\n",
    "\n",
    "It should be noted that while there will be precise guidelines on how you should handle certain tasks in the project, there will also be places where an exact specification is not provided. **There will be times in the project where you will need to make and justify your own decisions on how to treat the data.** These are places where there may not be only one way to handle the data. In real-life tasks, there may be many valid ways to approach an analysis task. One of the most important things you can do is clearly document your approach so that other scientists can understand the decisions you've made.\n",
    "\n",
    "At the end of most sections, there will be a Markdown cell labeled **Discussion**. In these cells, you will report your findings for the completed section, as well as document the decisions that you made in your approach to each subtask. **Your project will be evaluated not just on the code used to complete the tasks outlined, but also your communication about your observations and conclusions at each stage.**"
   ]
  },
  {
   "cell_type": "code",
   "execution_count": 2,
   "metadata": {},
   "outputs": [],
   "source": [
    "# import libraries here; add more as necessary\n",
    "import numpy as np\n",
    "import pandas as pd\n",
    "import matplotlib.pyplot as plt\n",
    "import seaborn as sns\n",
    "from sklearn.preprocessing import Imputer, StandardScaler\n",
    "from sklearn.decomposition import PCA\n",
    "from sklearn.cluster import KMeans\n",
    "\n",
    "# magic word for producing visualizations in notebook\n",
    "%matplotlib inline"
   ]
  },
  {
   "cell_type": "markdown",
   "metadata": {},
   "source": [
    "### Step 0: Load the Data\n",
    "\n",
    "There are four files associated with this project (not including this one):\n",
    "\n",
    "- `Udacity_AZDIAS_Subset.csv`: Demographics data for the general population of Germany; 891211 persons (rows) x 85 features (columns).\n",
    "- `Udacity_CUSTOMERS_Subset.csv`: Demographics data for customers of a mail-order company; 191652 persons (rows) x 85 features (columns).\n",
    "- `Data_Dictionary.md`: Detailed information file about the features in the provided datasets.\n",
    "- `AZDIAS_Feature_Summary.csv`: Summary of feature attributes for demographics data; 85 features (rows) x 4 columns\n",
    "\n",
    "Each row of the demographics files represents a single person, but also includes information outside of individuals, including information about their household, building, and neighborhood. You will use this information to cluster the general population into groups with similar demographic properties. Then, you will see how the people in the customers dataset fit into those created clusters. The hope here is that certain clusters are over-represented in the customers data, as compared to the general population; those over-represented clusters will be assumed to be part of the core userbase. This information can then be used for further applications, such as targeting for a marketing campaign.\n",
    "\n",
    "To start off with, load in the demographics data for the general population into a pandas DataFrame, and do the same for the feature attributes summary. Note for all of the `.csv` data files in this project: they're semicolon (`;`) delimited, so you'll need an additional argument in your [`read_csv()`](https://pandas.pydata.org/pandas-docs/stable/generated/pandas.read_csv.html) call to read in the data properly. Also, considering the size of the main dataset, it may take some time for it to load completely.\n",
    "\n",
    "Once the dataset is loaded, it's recommended that you take a little bit of time just browsing the general structure of the dataset and feature summary file. You'll be getting deep into the innards of the cleaning in the first major step of the project, so gaining some general familiarity can help you get your bearings."
   ]
  },
  {
   "cell_type": "code",
   "execution_count": 3,
   "metadata": {},
   "outputs": [],
   "source": [
    "# Load in the general demographics data.\n",
    "azdias = pd.read_csv('Udacity_AZDIAS_Subset.csv', sep=';')\n",
    "\n",
    "# Load in the feature summary file.\n",
    "feat_info = pd.read_csv('AZDIAS_Feature_Summary.csv', sep=';')"
   ]
  },
  {
   "cell_type": "code",
   "execution_count": 4,
   "metadata": {},
   "outputs": [
    {
     "name": "stdout",
     "output_type": "stream",
     "text": [
      "(891221, 85) (85, 4)\n",
      "   AGER_TYP  ALTERSKATEGORIE_GROB  ANREDE_KZ  CJT_GESAMTTYP  \\\n",
      "0        -1                     2          1            2.0   \n",
      "1        -1                     1          2            5.0   \n",
      "2        -1                     3          2            3.0   \n",
      "3         2                     4          2            2.0   \n",
      "4        -1                     3          1            5.0   \n",
      "\n",
      "   FINANZ_MINIMALIST  FINANZ_SPARER  FINANZ_VORSORGER  FINANZ_ANLEGER  \\\n",
      "0                  3              4                 3               5   \n",
      "1                  1              5                 2               5   \n",
      "2                  1              4                 1               2   \n",
      "3                  4              2                 5               2   \n",
      "4                  4              3                 4               1   \n",
      "\n",
      "   FINANZ_UNAUFFAELLIGER  FINANZ_HAUSBAUER    ...     PLZ8_ANTG1  PLZ8_ANTG2  \\\n",
      "0                      5                 3    ...            NaN         NaN   \n",
      "1                      4                 5    ...            2.0         3.0   \n",
      "2                      3                 5    ...            3.0         3.0   \n",
      "3                      1                 2    ...            2.0         2.0   \n",
      "4                      3                 2    ...            2.0         4.0   \n",
      "\n",
      "   PLZ8_ANTG3  PLZ8_ANTG4  PLZ8_BAUMAX  PLZ8_HHZ  PLZ8_GBZ  ARBEIT  \\\n",
      "0         NaN         NaN          NaN       NaN       NaN     NaN   \n",
      "1         2.0         1.0          1.0       5.0       4.0     3.0   \n",
      "2         1.0         0.0          1.0       4.0       4.0     3.0   \n",
      "3         2.0         0.0          1.0       3.0       4.0     2.0   \n",
      "4         2.0         1.0          2.0       3.0       3.0     4.0   \n",
      "\n",
      "   ORTSGR_KLS9  RELAT_AB  \n",
      "0          NaN       NaN  \n",
      "1          5.0       4.0  \n",
      "2          5.0       2.0  \n",
      "3          3.0       3.0  \n",
      "4          6.0       5.0  \n",
      "\n",
      "[5 rows x 85 columns]\n",
      "              attribute information_level         type missing_or_unknown\n",
      "0              AGER_TYP            person  categorical             [-1,0]\n",
      "1  ALTERSKATEGORIE_GROB            person      ordinal           [-1,0,9]\n",
      "2             ANREDE_KZ            person  categorical             [-1,0]\n",
      "3         CJT_GESAMTTYP            person  categorical                [0]\n",
      "4     FINANZ_MINIMALIST            person      ordinal               [-1]\n"
     ]
    }
   ],
   "source": [
    "# Check the structure of the data after it's loaded (e.g. print the number of\n",
    "# rows and columns, print the first few rows).\n",
    "print(azdias.shape, feat_info.shape)\n",
    "print(azdias.head())\n",
    "print(feat_info.head())"
   ]
  },
  {
   "cell_type": "markdown",
   "metadata": {},
   "source": [
    "> **Tip**: Add additional cells to keep everything in reasonably-sized chunks! Keyboard shortcut `esc --> a` (press escape to enter command mode, then press the 'A' key) adds a new cell before the active cell, and `esc --> b` adds a new cell after the active cell. If you need to convert an active cell to a markdown cell, use `esc --> m` and to convert to a code cell, use `esc --> y`. \n",
    "\n",
    "## Step 1: Preprocessing\n",
    "\n",
    "### Step 1.1: Assess Missing Data\n",
    "\n",
    "The feature summary file contains a summary of properties for each demographics data column. You will use this file to help you make cleaning decisions during this stage of the project. First of all, you should assess the demographics data in terms of missing data. Pay attention to the following points as you perform your analysis, and take notes on what you observe. Make sure that you fill in the **Discussion** cell with your findings and decisions at the end of each step that has one!\n",
    "\n",
    "#### Step 1.1.1: Convert Missing Value Codes to NaNs\n",
    "The fourth column of the feature attributes summary (loaded in above as `feat_info`) documents the codes from the data dictionary that indicate missing or unknown data. While the file encodes this as a list (e.g. `[-1,0]`), this will get read in as a string object. You'll need to do a little bit of parsing to make use of it to identify and clean the data. Convert data that matches a 'missing' or 'unknown' value code into a numpy NaN value. You might want to see how much data takes on a 'missing' or 'unknown' code, and how much data is naturally missing, as a point of interest.\n",
    "\n",
    "**As one more reminder, you are encouraged to add additional cells to break up your analysis into manageable chunks.**"
   ]
  },
  {
   "cell_type": "code",
   "execution_count": 5,
   "metadata": {},
   "outputs": [],
   "source": [
    "# Identify missing or unknown data values and convert them to NaNs.\n",
    "\n",
    "#Number of natually missing elements in each column\n",
    "naturally_missing = azdias.isnull().sum(axis=0)"
   ]
  },
  {
   "cell_type": "code",
   "execution_count": 6,
   "metadata": {},
   "outputs": [
    {
     "data": {
      "text/plain": [
       "Text(0.5, 1.0, 'Number of Naturally Missing Values by Feature')"
      ]
     },
     "execution_count": 6,
     "metadata": {},
     "output_type": "execute_result"
    },
    {
     "data": {
      "image/png": "[encoded data removed]",
      "text/plain": [
       "<Figure size 432x288 with 1 Axes>"
      ]
     },
     "metadata": {
      "needs_background": "light"
     },
     "output_type": "display_data"
    }
   ],
   "source": [
    "# Plot the naturally missing elements count\n",
    "plt.bar(x= np.arange(azdias.shape[1]), height=naturally_missing)\n",
    "plt.title('Number of Naturally Missing Values by Feature')"
   ]
  },
  {
   "cell_type": "code",
   "execution_count": 10,
   "metadata": {},
   "outputs": [
    {
     "data": {
      "text/plain": [
       "'KK_KUNDENTYP'"
      ]
     },
     "execution_count": 10,
     "metadata": {},
     "output_type": "execute_result"
    }
   ],
   "source": [
    "#find out the name of parameter with the most missing values\n",
    "naturally_missing.idxmax()"
   ]
  },
  {
   "cell_type": "code",
   "execution_count": 7,
   "metadata": {},
   "outputs": [],
   "source": [
    "# convert missing values to NaN\n",
    "# numeric columns\n",
    "numeric_columns = azdias.select_dtypes(include='number').columns\n",
    "# non-numeric columns\n",
    "object_columns = azdias.select_dtypes(exclude='number').columns\n",
    "\n",
    "# find missing elements in numeric columns and convert them to NaN\n",
    "for c in numeric_columns:\n",
    "    missing_code = feat_info[feat_info.attribute==c]['missing_or_unknown'].values\n",
    "    missing_code = missing_code[0][1:-1]\n",
    "    if len(missing_code) > 0:\n",
    "        missing_code = [int(s) for s in missing_code.split(',')]\n",
    "        idx = [x in missing_code for x in  azdias[c]]\n",
    "        azdias.loc[idx, c] = np.NaN\n",
    "# find missing elements in non-numeric columns and convert them to NaN\n",
    "for c in object_columns:\n",
    "    missing_code = feat_info[feat_info.attribute==c]['missing_or_unknown'].values\n",
    "    missing_code = missing_code[0][1:-1]\n",
    "    if len(missing_code) > 0:\n",
    "        missing_code = missing_code.split(',')\n",
    "        idx = [x in missing_code for x in  azdias[c]]\n",
    "        azdias.loc[idx, c] = np.NaN"
   ]
  },
  {
   "cell_type": "markdown",
   "metadata": {},
   "source": [
    "#### Step 1.1.2: Assess Missing Data in Each Column\n",
    "\n",
    "How much missing data is present in each column? There are a few columns that are outliers in terms of the proportion of values that are missing. You will want to use matplotlib's [`hist()`](https://matplotlib.org/api/_as_gen/matplotlib.pyplot.hist.html) function to visualize the distribution of missing value counts to find these columns. Identify and document these columns. While some of these columns might have justifications for keeping or re-encoding the data, for this project you should just remove them from the dataframe. (Feel free to make remarks about these outlier columns in the discussion, however!)\n",
    "\n",
    "For the remaining features, are there any patterns in which columns have, or share, missing data?"
   ]
  },
  {
   "cell_type": "code",
   "execution_count": 8,
   "metadata": {},
   "outputs": [],
   "source": [
    "# Perform an assessment of how much missing data there is in each column of the\n",
    "# dataset.\n",
    "missing_count = azdias.isnull().sum(axis=0)"
   ]
  },
  {
   "cell_type": "code",
   "execution_count": 11,
   "metadata": {},
   "outputs": [
    {
     "data": {
      "image/png": "[encoded data removed]",
      "text/plain": [
       "<Figure size 432x288 with 1 Axes>"
      ]
     },
     "metadata": {
      "needs_background": "light"
     },
     "output_type": "display_data"
    }
   ],
   "source": [
    "# Investigate patterns in the amount of missing data in each column.\n",
    "missing_count.hist(bins=20)\n",
    "plt.title('Distribution of Number of Missing Values in Each Column');"
   ]
  },
  {
   "cell_type": "code",
   "execution_count": 13,
   "metadata": {},
   "outputs": [
    {
     "data": {
      "image/png": "[encoded data removed]",
      "text/plain": [
       "<Figure size 432x288 with 1 Axes>"
      ]
     },
     "metadata": {
      "needs_background": "light"
     },
     "output_type": "display_data"
    }
   ],
   "source": [
    "#Main distribution missing values < 200000\n",
    "missing_count[missing_count <200000].hist(bins=10)\n",
    "plt.title('Subset of Distribution With Missing Values <200000');"
   ]
  },
  {
   "cell_type": "code",
   "execution_count": 14,
   "metadata": {},
   "outputs": [
    {
     "data": {
      "image/png": "[encoded data removed]",
      "text/plain": [
       "<Figure size 432x288 with 1 Axes>"
      ]
     },
     "metadata": {
      "needs_background": "light"
     },
     "output_type": "display_data"
    }
   ],
   "source": [
    "\n",
    "x = np.linspace(0, azdias.shape[0], 100)\n",
    "cdf = [sum(missing_count <= v)/len(missing_count) for v in x ]\n",
    "plt.plot(x, cdf)\n",
    "plt.grid()\n",
    "plt.xlabel('Number of missing elements')\n",
    "plt.ylabel('CDF');\n",
    "plt.title('CDF of Number of Missing Values for Each Column');"
   ]
  },
  {
   "cell_type": "code",
   "execution_count": 15,
   "metadata": {},
   "outputs": [
    {
     "name": "stdout",
     "output_type": "stream",
     "text": [
      "Removed Columns: Index(['AGER_TYP', 'GEBURTSJAHR', 'TITEL_KZ', 'ALTER_HH', 'KK_KUNDENTYP',\n",
      "       'KBA05_BAUMAX'],\n",
      "      dtype='object')\n"
     ]
    }
   ],
   "source": [
    "# Remove the outlier columns from the dataset. (You'll perform other data\n",
    "# engineering tasks such as re-encoding and imputation later.)\n",
    "drop_columns = missing_count.index[missing_count >200000]\n",
    "print('Removed Columns:', drop_columns)\n",
    "azdias.drop(drop_columns, axis=1, inplace=True)"
   ]
  },
  {
   "cell_type": "code",
   "execution_count": 16,
   "metadata": {},
   "outputs": [
    {
     "data": {
      "text/plain": [
       "(891221, 79)"
      ]
     },
     "execution_count": 16,
     "metadata": {},
     "output_type": "execute_result"
    }
   ],
   "source": [
    "azdias.shape"
   ]
  },
  {
   "cell_type": "markdown",
   "metadata": {},
   "source": [
    "#### Discussion 1.1.2: Assess Missing Data in Each Column\n",
    "The distribution of the amount of missing data in each column is skewed with a long tail for value > 200000. The distribution for number of missing valaues < 200000 is bimodal with centers at ~1000 and ~100000. \n",
    "\n",
    "Six columns with number of missing values > 200000 are removed. So the tail of the missing data distribution is removed."
   ]
  },
  {
   "cell_type": "markdown",
   "metadata": {},
   "source": [
    "#### Step 1.1.3: Assess Missing Data in Each Row\n",
    "\n",
    "Now, you'll perform a similar assessment for the rows of the dataset. How much data is missing in each row? As with the columns, you should see some groups of points that have a very different numbers of missing values. Divide the data into two subsets: one for data points that are above some threshold for missing values, and a second subset for points below that threshold.\n",
    "\n",
    "In order to know what to do with the outlier rows, we should see if the distribution of data values on columns that are not missing data (or are missing very little data) are similar or different between the two groups. Select at least five of these columns and compare the distribution of values.\n",
    "- You can use seaborn's [`countplot()`](https://seaborn.pydata.org/generated/seaborn.countplot.html) function to create a bar chart of code frequencies and matplotlib's [`subplot()`](https://matplotlib.org/api/_as_gen/matplotlib.pyplot.subplot.html) function to put bar charts for the two subplots side by side.\n",
    "- To reduce repeated code, you might want to write a function that can perform this comparison, taking as one of its arguments a column to be compared.\n",
    "\n",
    "Depending on what you observe in your comparison, this will have implications on how you approach your conclusions later in the analysis. If the distributions of non-missing features look similar between the data with many missing values and the data with few or no missing values, then we could argue that simply dropping those points from the analysis won't present a major issue. On the other hand, if the data with many missing values looks very different from the data with few or no missing values, then we should make a note on those data as special. We'll revisit these data later on. **Either way, you should continue your analysis for now using just the subset of the data with few or no missing values.**"
   ]
  },
  {
   "cell_type": "code",
   "execution_count": 17,
   "metadata": {},
   "outputs": [],
   "source": [
    "# How much data is missing in each row of the dataset?\n",
    "row_missing_count = azdias.isnull().sum(axis=1)"
   ]
  },
  {
   "cell_type": "code",
   "execution_count": 19,
   "metadata": {},
   "outputs": [
    {
     "data": {
      "image/png": "[encoded data removed]",
      "text/plain": [
       "<Figure size 432x288 with 1 Axes>"
      ]
     },
     "metadata": {
      "needs_background": "light"
     },
     "output_type": "display_data"
    }
   ],
   "source": [
    "row_missing_count.hist(bins=20)\n",
    "plt.title('Distributon of Missing Values in Each Row');"
   ]
  },
  {
   "cell_type": "code",
   "execution_count": 20,
   "metadata": {},
   "outputs": [],
   "source": [
    "# Write code to divide the data into two subsets based on the number of missing\n",
    "# values in each row.\n",
    "azdias_low = azdias.loc[row_missing_count <10 ] #subset with low number of missing values\n",
    "azdias_high = azdias.loc[row_missing_count >=10] #subset with high number of missing values"
   ]
  },
  {
   "cell_type": "code",
   "execution_count": 21,
   "metadata": {},
   "outputs": [
    {
     "data": {
      "text/plain": [
       "((774743, 79), (116478, 79))"
      ]
     },
     "execution_count": 21,
     "metadata": {},
     "output_type": "execute_result"
    }
   ],
   "source": [
    "azdias_low.shape, azdias_high.shape"
   ]
  },
  {
   "cell_type": "code",
   "execution_count": 23,
   "metadata": {},
   "outputs": [],
   "source": [
    "# Compare the distribution of values for at least five columns where there are\n",
    "# no or few missing values, between the two subset\n",
    "def compare_distribution(df1, df2, column_list):\n",
    "    \"\"\"\n",
    "    Compare distribution of values of columns between two data sets\n",
    "    Inputs:\n",
    "        df1, df2: data frames to be compared\n",
    "        column_list: list of names of columns to be compared\n",
    "    Output:\n",
    "        Bar plots of categories for all the columns for both data frames\n",
    "    \"\"\"\n",
    "    n = len(column_list) # number of columns to be compared\n",
    "    count = 1\n",
    "    plt.figure()\n",
    "    for c in column_list:\n",
    "        plt.subplot(n, 2, count )\n",
    "        sns.countplot(df1[c])\n",
    "        #plt.title(c)\n",
    "        count += 1\n",
    "        plt.subplot(n, 2, count)\n",
    "        sns.countplot(df2[c])\n",
    "       # plt.title(c)\n",
    "        count +=1\n",
    "    plt.subplots_adjust(wspace =0.4, hspace=0.3, top = 2.2, bottom=-0.2)\n",
    "    "
   ]
  },
  {
   "cell_type": "code",
   "execution_count": 24,
   "metadata": {},
   "outputs": [
    {
     "data": {
      "image/png": "[encoded data removed]",
      "text/plain": [
       "<Figure size 432x288 with 20 Axes>"
      ]
     },
     "metadata": {
      "needs_background": "light"
     },
     "output_type": "display_data"
    }
   ],
   "source": [
    "#randomly select a few coolumns to compare\n",
    "cols = np.random.choice(azdias.columns, 10, replace=False) #randomly pick 10 columns\n",
    "compare_distribution(azdias_low, azdias_high, cols)"
   ]
  },
  {
   "cell_type": "markdown",
   "metadata": {},
   "source": [
    "#### Discussion 1.1.3: Assess Missing Data in Each Rowd\n",
    "\n",
    "The rows are grouped into two groups: one with fewer than 10 missing columns and the other with 10 or more missing columns. The data distribution of many of the randomly chosen columns (4 out 10 in the case above) is significantly and qualititatively different between the two groups of rows."
   ]
  },
  {
   "cell_type": "markdown",
   "metadata": {},
   "source": [
    "### Step 1.2: Select and Re-Encode Features\n",
    "\n",
    "Checking for missing data isn't the only way in which you can prepare a dataset for analysis. Since the unsupervised learning techniques to be used will only work on data that is encoded numerically, you need to make a few encoding changes or additional assumptions to be able to make progress. In addition, while almost all of the values in the dataset are encoded using numbers, not all of them represent numeric values. Check the third column of the feature summary (`feat_info`) for a summary of types of measurement.\n",
    "- For numeric and interval data, these features can be kept without changes.\n",
    "- Most of the variables in the dataset are ordinal in nature. While ordinal values may technically be non-linear in spacing, make the simplifying assumption that the ordinal variables can be treated as being interval in nature (that is, kept without any changes).\n",
    "- Special handling may be necessary for the remaining two variable types: categorical, and 'mixed'.\n",
    "\n",
    "In the first two parts of this sub-step, you will perform an investigation of the categorical and mixed-type features and make a decision on each of them, whether you will keep, drop, or re-encode each. Then, in the last part, you will create a new data frame with only the selected and engineered columns.\n",
    "\n",
    "Data wrangling is often the trickiest part of the data analysis process, and there's a lot of it to be done here. But stick with it: once you're done with this step, you'll be ready to get to the machine learning parts of the project!"
   ]
  },
  {
   "cell_type": "code",
   "execution_count": 25,
   "metadata": {},
   "outputs": [
    {
     "data": {
      "text/html": [
       "<div>\n",
       "<style scoped>\n",
       "    .dataframe tbody tr th:only-of-type {\n",
       "        vertical-align: middle;\n",
       "    }\n",
       "\n",
       "    .dataframe tbody tr th {\n",
       "        vertical-align: top;\n",
       "    }\n",
       "\n",
       "    .dataframe thead th {\n",
       "        text-align: right;\n",
       "    }\n",
       "</style>\n",
       "<table border=\"1\" class=\"dataframe\">\n",
       "  <thead>\n",
       "    <tr style=\"text-align: right;\">\n",
       "      <th></th>\n",
       "      <th>attribute</th>\n",
       "      <th>information_level</th>\n",
       "      <th>type</th>\n",
       "      <th>missing_or_unknown</th>\n",
       "    </tr>\n",
       "  </thead>\n",
       "  <tbody>\n",
       "    <tr>\n",
       "      <th>0</th>\n",
       "      <td>AGER_TYP</td>\n",
       "      <td>person</td>\n",
       "      <td>categorical</td>\n",
       "      <td>[-1,0]</td>\n",
       "    </tr>\n",
       "    <tr>\n",
       "      <th>1</th>\n",
       "      <td>ALTERSKATEGORIE_GROB</td>\n",
       "      <td>person</td>\n",
       "      <td>ordinal</td>\n",
       "      <td>[-1,0,9]</td>\n",
       "    </tr>\n",
       "    <tr>\n",
       "      <th>2</th>\n",
       "      <td>ANREDE_KZ</td>\n",
       "      <td>person</td>\n",
       "      <td>categorical</td>\n",
       "      <td>[-1,0]</td>\n",
       "    </tr>\n",
       "    <tr>\n",
       "      <th>3</th>\n",
       "      <td>CJT_GESAMTTYP</td>\n",
       "      <td>person</td>\n",
       "      <td>categorical</td>\n",
       "      <td>[0]</td>\n",
       "    </tr>\n",
       "    <tr>\n",
       "      <th>4</th>\n",
       "      <td>FINANZ_MINIMALIST</td>\n",
       "      <td>person</td>\n",
       "      <td>ordinal</td>\n",
       "      <td>[-1]</td>\n",
       "    </tr>\n",
       "  </tbody>\n",
       "</table>\n",
       "</div>"
      ],
      "text/plain": [
       "              attribute information_level         type missing_or_unknown\n",
       "0              AGER_TYP            person  categorical             [-1,0]\n",
       "1  ALTERSKATEGORIE_GROB            person      ordinal           [-1,0,9]\n",
       "2             ANREDE_KZ            person  categorical             [-1,0]\n",
       "3         CJT_GESAMTTYP            person  categorical                [0]\n",
       "4     FINANZ_MINIMALIST            person      ordinal               [-1]"
      ]
     },
     "execution_count": 25,
     "metadata": {},
     "output_type": "execute_result"
    }
   ],
   "source": [
    "feat_info.head()"
   ]
  },
  {
   "cell_type": "code",
   "execution_count": 30,
   "metadata": {},
   "outputs": [],
   "source": [
    "# Features and data type for data after cleaning\n",
    "feat_type_dict ={ key: value for key, value in zip(feat_info.attribute, feat_info.type)}\n",
    "type_after_cleaning, count_after_cleaning = np.unique([feat_type_dict[c] for c in azdias_low.columns], return_counts=True)"
   ]
  },
  {
   "cell_type": "code",
   "execution_count": 33,
   "metadata": {},
   "outputs": [
    {
     "name": "stdout",
     "output_type": "stream",
     "text": [
      "Number of features for each type in original data\n",
      "ordinal        49\n",
      "categorical    21\n",
      "numeric         7\n",
      "mixed           7\n",
      "interval        1\n",
      "Name: type, dtype: int64\n",
      "Number of features for each type in cleaned data\n",
      "categorical    18\n",
      "mixed           6\n",
      "numeric         6\n",
      "ordinal        49\n",
      "dtype: int64\n"
     ]
    }
   ],
   "source": [
    "# How many features are there of each data type?\n",
    "print(\"Number of features for each type in original data\")\n",
    "print(feat_info.type.value_counts())\n",
    "print(\"Number of features for each type in cleaned data\")\n",
    "print(pd.Series(data=count_after_cleaning, index=type_after_cleaning))"
   ]
  },
  {
   "cell_type": "markdown",
   "metadata": {},
   "source": [
    "#### Step 1.2.1: Re-Encode Categorical Features\n",
    "\n",
    "For categorical data, you would ordinarily need to encode the levels as dummy variables. Depending on the number of categories, perform one of the following:\n",
    "- For binary (two-level) categoricals that take numeric values, you can keep them without needing to do anything.\n",
    "- There is one binary variable that takes on non-numeric values. For this one, you need to re-encode the values as numbers or create a dummy variable.\n",
    "- For multi-level categoricals (three or more values), you can choose to encode the values using multiple dummy variables (e.g. via [OneHotEncoder](http://scikit-learn.org/stable/modules/generated/sklearn.preprocessing.OneHotEncoder.html)), or (to keep things straightforward) just drop them from the analysis. As always, document your choices in the Discussion section."
   ]
  },
  {
   "cell_type": "code",
   "execution_count": 34,
   "metadata": {},
   "outputs": [],
   "source": [
    "# Assess categorical variables: which are binary, which are multi-level, and\n",
    "# which one needs to be re-encoded?\n",
    "\n",
    "#list of categorical features and corresponding number of categories\n",
    "categorical_columns = [(c, len(azdias_low[c].value_counts()), azdias_low[c].dtype) for c in azdias_low.columns if feat_type_dict[c] == 'categorical']"
   ]
  },
  {
   "cell_type": "code",
   "execution_count": 35,
   "metadata": {},
   "outputs": [
    {
     "data": {
      "text/plain": [
       "[('ANREDE_KZ', 2, dtype('float64')),\n",
       " ('GREEN_AVANTGARDE', 2, dtype('int64')),\n",
       " ('SOHO_KZ', 2, dtype('float64')),\n",
       " ('VERS_TYP', 2, dtype('float64')),\n",
       " ('OST_WEST_KZ', 2, dtype('O'))]"
      ]
     },
     "execution_count": 35,
     "metadata": {},
     "output_type": "execute_result"
    }
   ],
   "source": [
    "# list all binary categorical features and their dtype\n",
    "[c for c in categorical_columns if c[1]==2]"
   ]
  },
  {
   "cell_type": "code",
   "execution_count": 38,
   "metadata": {},
   "outputs": [
    {
     "data": {
      "text/plain": [
       "[('CJT_GESAMTTYP', 6, dtype('float64')),\n",
       " ('FINANZTYP', 6, dtype('float64')),\n",
       " ('GFK_URLAUBERTYP', 12, dtype('float64')),\n",
       " ('LP_FAMILIE_FEIN', 11, dtype('float64')),\n",
       " ('LP_FAMILIE_GROB', 5, dtype('float64')),\n",
       " ('LP_STATUS_FEIN', 10, dtype('float64')),\n",
       " ('LP_STATUS_GROB', 5, dtype('float64')),\n",
       " ('NATIONALITAET_KZ', 3, dtype('float64')),\n",
       " ('SHOPPER_TYP', 4, dtype('float64')),\n",
       " ('ZABEOTYP', 6, dtype('float64')),\n",
       " ('GEBAEUDETYP', 7, dtype('float64')),\n",
       " ('CAMEO_DEUG_2015', 9, dtype('O')),\n",
       " ('CAMEO_DEU_2015', 44, dtype('O'))]"
      ]
     },
     "execution_count": 38,
     "metadata": {},
     "output_type": "execute_result"
    }
   ],
   "source": [
    "# multiple level category data\n",
    "[c for c in categorical_columns if c[1]>2]"
   ]
  },
  {
   "cell_type": "code",
   "execution_count": 332,
   "metadata": {},
   "outputs": [],
   "source": [
    "# Re-encode categorical variable(s) to be kept in the analysis.\n",
    "\n",
    "# OST_WSET_KZ needs to be encoded in numerical values\n",
    "azdias_low = azdias_low.replace({'OST_WEST_KZ': {'W':0, 'O':1}})\n",
    "\n",
    "\n",
    "## keep LP_FAMILIE_GROB and LP_STATUS_GROB, NATIONALITAET_KZ, SHOPPER_TYP, ZABEOTYP\n",
    "## drop multiple level features with 3 or more categories\n",
    "#azdias_low.drop([c[0] for c in categorical_columns if c[1]>2], axis=1, inplace=True)"
   ]
  },
  {
   "cell_type": "code",
   "execution_count": 39,
   "metadata": {},
   "outputs": [],
   "source": [
    "# Multiple level categorical feaures to be dropped \n",
    "#after reviewing the descriptions of them, we'll keep FINANZTYP, LP_FAMILIE_GROB and LP_STATUS_GROB, \n",
    "#NATIONALITAET_KZ, SHOPPER_TYP, ZABEOTYP \n",
    "#which are more likely to be associated with consumer characteristics, and drop the rest of the features\n",
    "azdias_low.drop(['CJT_GESAMTTYP',\n",
    " 'GFK_URLAUBERTYP',\n",
    " 'LP_FAMILIE_FEIN',\n",
    " 'LP_STATUS_FEIN',\n",
    " 'GEBAEUDETYP',\n",
    " 'CAMEO_DEUG_2015',\n",
    " 'CAMEO_DEU_2015'], axis=1, inplace=True)"
   ]
  },
  {
   "cell_type": "markdown",
   "metadata": {},
   "source": [
    "#### Discussion 1.2.1: Re-Encode Categorical Features\n",
    "\n",
    "In the cleaned data, there are 5 binary categerical features, 4 of which are encoded in numeric values and one in string. The non-numeric feature, OST_WEST_KZ, is re-encoded in numeric values of 0 and 1. All these 5 binary categorical features are kept for analysis.\n",
    "\n",
    "There are 13 multiple level categorical feeaures (each has more than 2 categories). Based on the descriptions of these features,  6 of them are kept in the analysis (FINANZTYP, LP_FAMILIE_GROB and LP_STATUS_GROB, NATIONALITAET_KZ, SHOPPER_TYP, ZABEOTYP) because they are more likely to be associated with the characteristics of consumers. The remaining 7 features are dropped."
   ]
  },
  {
   "cell_type": "markdown",
   "metadata": {},
   "source": [
    "#### Step 1.2.2: Engineer Mixed-Type Features\n",
    "\n",
    "There are a handful of features that are marked as \"mixed\" in the feature summary that require special treatment in order to be included in the analysis. There are two in particular that deserve attention; the handling of the rest are up to your own choices:\n",
    "- \"PRAEGENDE_JUGENDJAHRE\" combines information on three dimensions: generation by decade, movement (mainstream vs. avantgarde), and nation (east vs. west). While there aren't enough levels to disentangle east from west, you should create two new variables to capture the other two dimensions: an interval-type variable for decade, and a binary variable for movement.\n",
    "- \"CAMEO_INTL_2015\" combines information on two axes: wealth and life stage. Break up the two-digit codes by their 'tens'-place and 'ones'-place digits into two new ordinal variables (which, for the purposes of this project, is equivalent to just treating them as their raw numeric values).\n",
    "- If you decide to keep or engineer new features around the other mixed-type features, make sure you note your steps in the Discussion section.\n",
    "\n",
    "Be sure to check `Data_Dictionary.md` for the details needed to finish these tasks."
   ]
  },
  {
   "cell_type": "code",
   "execution_count": 42,
   "metadata": {},
   "outputs": [],
   "source": [
    "# List all features are of mixed type\n",
    "mixed_columns = [(c, len(azdias_low[c].value_counts()), azdias_low[c].dtype) for c in azdias_low.columns if feat_type_dict[c] == 'mixed']"
   ]
  },
  {
   "cell_type": "code",
   "execution_count": 43,
   "metadata": {},
   "outputs": [
    {
     "data": {
      "text/plain": [
       "[('LP_LEBENSPHASE_FEIN', 40, dtype('float64')),\n",
       " ('LP_LEBENSPHASE_GROB', 12, dtype('float64')),\n",
       " ('PRAEGENDE_JUGENDJAHRE', 15, dtype('float64')),\n",
       " ('WOHNLAGE', 8, dtype('float64')),\n",
       " ('CAMEO_INTL_2015', 21, dtype('O')),\n",
       " ('PLZ8_BAUMAX', 5, dtype('float64'))]"
      ]
     },
     "execution_count": 43,
     "metadata": {},
     "output_type": "execute_result"
    }
   ],
   "source": [
    "mixed_columns"
   ]
  },
  {
   "cell_type": "code",
   "execution_count": 44,
   "metadata": {},
   "outputs": [],
   "source": [
    "# Investigate \"PRAEGENDE_JUGENDJAHRE\" and engineer two new variables.\n",
    "\n",
    "key = np.arange(1,16)\n",
    "#generation: 0->40, 1->50, 2->60, 3->70, 4->80, 5->90\n",
    "generation = [0, 0, 1, 1, 2, 2, 2, 3, 3, 4, 4, 4, 4, 5, 5]\n",
    "# movement: 0-->mainstream 1--> avangtgarde\n",
    "movement = [0, 1, 0, 1, 0, 1, 1, 0, 1, 0, 1, 0, 1, 0, 1]\n",
    "generation_dict ={x:y for x, y in zip(key, generation)}\n",
    "movement_dict ={x:y for x,y in zip(key, movement)}\n",
    "azdias_low['generation'] = azdias_low['PRAEGENDE_JUGENDJAHRE'].replace(generation_dict)\n",
    "azdias_low['movement'] = azdias_low['PRAEGENDE_JUGENDJAHRE'].replace(movement_dict)\n",
    "azdias_low.drop('PRAEGENDE_JUGENDJAHRE', axis=1, inplace=True) # remove the original column"
   ]
  },
  {
   "cell_type": "code",
   "execution_count": 45,
   "metadata": {},
   "outputs": [],
   "source": [
    "# Investigate \"CAMEO_INTL_2015\" and engineer two new variables.\n",
    "azdias_low['wealth'] = [x if pd.isnull(x) else int(x[0]) for x in azdias_low.CAMEO_INTL_2015]\n",
    "azdias_low['life_stage'] = [x if pd.isnull(x) else int(x[1]) for x in azdias_low.CAMEO_INTL_2015]\n",
    "azdias_low.drop('CAMEO_INTL_2015', axis=1, inplace=True)  #remove original column"
   ]
  },
  {
   "cell_type": "code",
   "execution_count": 46,
   "metadata": {},
   "outputs": [],
   "source": [
    "# remove LP_LEBENSPHASE_FEIN and LP_LEBENSPHASE_GROB because their information greatly overlap \n",
    "# with wealth, geberation and LP_FAMILIE_GROB\n",
    "azdias_low.drop(['LP_LEBENSPHASE_FEIN', 'LP_LEBENSPHASE_GROB'], axis=1, inplace=True)"
   ]
  },
  {
   "cell_type": "markdown",
   "metadata": {},
   "source": [
    "#### Discussion 1.2.2: Engineer Mixed-Type Features\n",
    "\n",
    "There are 6 mixed type features.\n",
    "\n",
    "PRAEGENDE_JUGENDJAHRE and CAMEO_INTL_2015 are each encoded into two new features. The generation information in PRAEGENDE_JUGENDJAHRE is re-encoded into ordinal numbers from 0 to 5 and movement is rencoded from string to numbers 0 and 1. CAMEO_INTL_2015 is encoded into two variables using the tens-place and ones-place digits, respectively.\n",
    "\n",
    "Both WOHNLAGE and PLZ8_BAUMAX are kept as they provide new information. The are used without ecnoding as their values are numeric.\n",
    "\n",
    "LP_LEBENSPHASE_FEIN and LP_LEBENSPHASE_GROB are dropped because their information largely overlap with other features such as wealth, generation, and LP_FAMILIE_GROB."
   ]
  },
  {
   "cell_type": "markdown",
   "metadata": {},
   "source": [
    "#### Step 1.2.3: Complete Feature Selection\n",
    "\n",
    "In order to finish this step up, you need to make sure that your data frame now only has the columns that you want to keep. To summarize, the dataframe should consist of the following:\n",
    "- All numeric, interval, and ordinal type columns from the original dataset.\n",
    "- Binary categorical features (all numerically-encoded).\n",
    "- Engineered features from other multi-level categorical features and mixed features.\n",
    "\n",
    "Make sure that for any new columns that you have engineered, that you've excluded the original columns from the final dataset. Otherwise, their values will interfere with the analysis later on the project. For example, you should not keep \"PRAEGENDE_JUGENDJAHRE\", since its values won't be useful for the algorithm: only the values derived from it in the engineered features you created should be retained. As a reminder, your data should only be from **the subset with few or no missing values**."
   ]
  },
  {
   "cell_type": "code",
   "execution_count": 48,
   "metadata": {},
   "outputs": [
    {
     "data": {
      "text/plain": [
       "True"
      ]
     },
     "execution_count": 48,
     "metadata": {},
     "output_type": "execute_result"
    }
   ],
   "source": [
    "# If there are other re-engineering tasks you need to perform, make sure you\n",
    "# take care of them here. (Dealing with missing data will come in step 2.1.)\n",
    "\n",
    "#make sure all features are numeric\n",
    "np.all([item.dtype in [np.float64, np.int64] for (_, item) in azdias_low.items()])"
   ]
  },
  {
   "cell_type": "code",
   "execution_count": 49,
   "metadata": {},
   "outputs": [],
   "source": [
    "# Do whatever you need to in order to ensure that the dataframe only contains\n",
    "# the columns that should be passed to the algorithm functions."
   ]
  },
  {
   "cell_type": "markdown",
   "metadata": {},
   "source": [
    "### Step 1.3: Create a Cleaning Function\n",
    "\n",
    "Even though you've finished cleaning up the general population demographics data, it's important to look ahead to the future and realize that you'll need to perform the same cleaning steps on the customer demographics data. In this substep, complete the function below to execute the main feature selection, encoding, and re-engineering steps you performed above. Then, when it comes to looking at the customer data in Step 3, you can just run this function on that DataFrame to get the trimmed dataset in a single step."
   ]
  },
  {
   "cell_type": "code",
   "execution_count": 50,
   "metadata": {},
   "outputs": [],
   "source": [
    "def clean_data(df):\n",
    "    \"\"\"\n",
    "    Perform feature trimming, re-encoding, and engineering for demographics\n",
    "    data\n",
    "    \n",
    "    INPUT: Demographics DataFrame\n",
    "    OUTPUT: Trimmed and cleaned demographics DataFrame\n",
    "    \"\"\"\n",
    "    \n",
    "    # Put in code here to execute all main cleaning steps:\n",
    "    # convert missing value codes into NaNs, ...\n",
    "    dff = df.copy()\n",
    "   # numeric columns\n",
    "    numeric_columns = dff.select_dtypes(include='number').columns\n",
    "    # non-numeric columns\n",
    "    object_columns = dff.select_dtypes(exclude='number').columns\n",
    "\n",
    "    # find missing elements in numeric columns and convert them to NaN\n",
    "    for c in numeric_columns:\n",
    "        missing_code = feat_info[feat_info.attribute==c]['missing_or_unknown'].values\n",
    "        missing_code = missing_code[0][1:-1]\n",
    "        if len(missing_code) > 0:\n",
    "            missing_code = [int(s) for s in missing_code.split(',')]\n",
    "            idx = [x in missing_code for x in  dff[c]]\n",
    "            dff.loc[idx, c] = np.NaN\n",
    "    # find missing elements in non-numeric columns and convert them to NaN\n",
    "    for c in object_columns:\n",
    "        missing_code = feat_info[feat_info.attribute==c]['missing_or_unknown'].values\n",
    "        missing_code = missing_code[0][1:-1]\n",
    "        if len(missing_code) > 0:\n",
    "            missing_code = missing_code.split(',')\n",
    "            idx = [x in missing_code for x in  dff[c]]\n",
    "            dff.loc[idx, c] = np.NaN   \n",
    "\n",
    "    # remove selected columns and rows, ...\n",
    "    #keep row with few or now missing values\n",
    "    missing_values = dff.isnull().sum(axis=1)\n",
    "    dff = dff.loc[missing_values < 10]  # remove rows with more than 10 missing columns\n",
    "    drop_columns = ['AGER_TYP', 'GEBURTSJAHR', 'TITEL_KZ', 'ALTER_HH', 'KK_KUNDENTYP','KBA05_BAUMAX'] #columns with large missing values in population data\n",
    "    dff.drop(drop_columns, axis=1, inplace=True) #remove columns with large number of missing values\n",
    "    row_missing_count = dff.isnull().sum(axis=1)\n",
    "    dff = dff.loc[row_missing_count <10 ] #remove rows with large portion of missing values\n",
    "    \n",
    "    # select, re-encode, and engineer column values.\n",
    "    dff = dff.replace({'OST_WEST_KZ': {'W':0, 'O':1}})\n",
    "    dff.drop(['CJT_GESAMTTYP','GFK_URLAUBERTYP','LP_FAMILIE_FEIN','LP_STATUS_FEIN','GEBAEUDETYP','CAMEO_DEUG_2015','CAMEO_DEU_2015'], axis=1, inplace=True)\n",
    "    # Re-encode PRAEGENDE_JUGENDJAHRE\n",
    "    key = np.arange(1,16)\n",
    "    #generation: 0->40, 1->50, 2->60, 3->70, 4->80, 5->90\n",
    "    generation = [0, 0, 1, 1, 2, 2, 2, 3, 3, 4, 4, 4, 4, 5, 5]\n",
    "    # movement: 0-->mainstream 1--> avangtgarde\n",
    "    movement = [0, 1, 0, 1, 0, 1, 1, 0, 1, 0, 1, 0, 1, 0, 1]\n",
    "    generation_dict ={x:y for x, y in zip(key, generation)}\n",
    "    movement_dict ={x:y for x,y in zip(key, movement)}\n",
    "    dff['generation'] = dff['PRAEGENDE_JUGENDJAHRE'].replace(generation_dict)\n",
    "    dff['movement'] = dff['PRAEGENDE_JUGENDJAHRE'].replace(movement_dict)\n",
    "    dff.drop('PRAEGENDE_JUGENDJAHRE', axis=1, inplace=True) # remove the original column\n",
    "    #re-encode CAMEO_INTL_2015\n",
    "    dff['wealth'] = [x if pd.isnull(x) else int(x[0]) for x in dff.CAMEO_INTL_2015]\n",
    "    dff['life_stage'] = [x if pd.isnull(x) else int(x[1]) for x in dff.CAMEO_INTL_2015]\n",
    "    dff.drop('CAMEO_INTL_2015', axis=1, inplace=True)  #remove original column\n",
    "    # remove LP_LEBENSPHASE_FEIN and LP_LEBENSPHASE_GROB \n",
    "    dff.drop(['LP_LEBENSPHASE_FEIN', 'LP_LEBENSPHASE_GROB'], axis=1, inplace=True)\n",
    "    \n",
    "    # Return the cleaned dataframe.\n",
    "    return dff\n",
    "    "
   ]
  },
  {
   "cell_type": "markdown",
   "metadata": {},
   "source": [
    "## Step 2: Feature Transformation\n",
    "\n",
    "### Step 2.1: Apply Feature Scaling\n",
    "\n",
    "Before we apply dimensionality reduction techniques to the data, we need to perform feature scaling so that the principal component vectors are not influenced by the natural differences in scale for features. Starting from this part of the project, you'll want to keep an eye on the [API reference page for sklearn](http://scikit-learn.org/stable/modules/classes.html) to help you navigate to all of the classes and functions that you'll need. In this substep, you'll need to check the following:\n",
    "\n",
    "- sklearn requires that data not have missing values in order for its estimators to work properly. So, before applying the scaler to your data, make sure that you've cleaned the DataFrame of the remaining missing values. This can be as simple as just removing all data points with missing data, or applying an [Imputer](http://scikit-learn.org/stable/modules/generated/sklearn.preprocessing.Imputer.html) to replace all missing values. You might also try a more complicated procedure where you temporarily remove missing values in order to compute the scaling parameters before re-introducing those missing values and applying imputation. Think about how much missing data you have and what possible effects each approach might have on your analysis, and justify your decision in the discussion section below.\n",
    "- For the actual scaling function, a [StandardScaler](http://scikit-learn.org/stable/modules/generated/sklearn.preprocessing.StandardScaler.html) instance is suggested, scaling each feature to mean 0 and standard deviation 1.\n",
    "- For these classes, you can make use of the `.fit_transform()` method to both fit a procedure to the data as well as apply the transformation to the data at the same time. Don't forget to keep the fit sklearn objects handy, since you'll be applying them to the customer demographics data towards the end of the project."
   ]
  },
  {
   "cell_type": "code",
   "execution_count": 51,
   "metadata": {},
   "outputs": [
    {
     "name": "stdout",
     "output_type": "stream",
     "text": [
      "606943\n"
     ]
    }
   ],
   "source": [
    "# If you've not yet cleaned the dataset of all NaN values, then investigate and\n",
    "# do that now.\n",
    "# total number of missing values\n",
    "print(azdias_low.isnull().sum().sum())"
   ]
  },
  {
   "cell_type": "code",
   "execution_count": 52,
   "metadata": {},
   "outputs": [
    {
     "data": {
      "image/png": "[encoded data removed]",
      "text/plain": [
       "<Figure size 432x288 with 1 Axes>"
      ]
     },
     "metadata": {
      "needs_background": "light"
     },
     "output_type": "display_data"
    }
   ],
   "source": [
    "# Histogram of portion of missing values for each feature\n",
    "plt.hist(azdias_low.isnull().sum()/azdias_low.shape[0])\n",
    "plt.title('Distribution of Portion of Missing Values');"
   ]
  },
  {
   "cell_type": "code",
   "execution_count": 55,
   "metadata": {},
   "outputs": [
    {
     "name": "stdout",
     "output_type": "stream",
     "text": [
      "Portion of data loss if any rows with missing data are remove1: 0.2\n"
     ]
    }
   ],
   "source": [
    "# Portion of data points to be removed if all data points with any missing data is removed\n",
    "\n",
    "print('Portion of data loss if any rows with missing data are remove1:', round(1-azdias_low.dropna().shape[0]/azdias_low.shape[0],2))"
   ]
  },
  {
   "cell_type": "code",
   "execution_count": 58,
   "metadata": {},
   "outputs": [
    {
     "name": "stdout",
     "output_type": "stream",
     "text": [
      "Portion of missing elements of total elements in the data frame: 0.01\n"
     ]
    }
   ],
   "source": [
    "# portion of missing values and total number of data values \n",
    "print('Portion of missing elements of total elements in the data frame:', round(azdias_low.isnull().sum().sum()/azdias_low.size,2))"
   ]
  },
  {
   "cell_type": "code",
   "execution_count": 60,
   "metadata": {},
   "outputs": [],
   "source": [
    "#Apply feature scaling to the general population demographics data.\n",
    "#\n",
    "imputer = Imputer(strategy='mean', axis=0)\n",
    "scaler = StandardScaler()\n",
    "azdias_low = pd.DataFrame(data=scaler.fit_transform(imputer.fit_transform(azdias_low)), columns=azdias_low.columns)"
   ]
  },
  {
   "cell_type": "markdown",
   "metadata": {},
   "source": [
    "### Discussion 2.1: Apply Feature Scaling\n",
    "\n",
    "Before feature scaling, the missing values are replaced with numeric values using imputation. For each feature (column), the column mean is used to replace all missing values in the column. This procedure is used in this analysis for two reasons: 1) the are relatively few missing values (~ 1% of total values in the data set) and 2) mean of the column/feature for imputation is a reasonable estimate given that there is no prior information on the missing values.\n",
    "\n",
    "This appraoch should be equivalent to the more complicated procedure where  missing values are temporarily removed in order to compute the scaling parameters before re-introducing those missing values and applying imputation if the mean of the column is used for imputation. \n",
    "\n",
    "Finally, removing rows with missing values is undesirable because too much data, 20% of the rows, would be removed."
   ]
  },
  {
   "cell_type": "markdown",
   "metadata": {},
   "source": [
    "### Step 2.2: Perform Dimensionality Reduction\n",
    "\n",
    "On your scaled data, you are now ready to apply dimensionality reduction techniques.\n",
    "\n",
    "- Use sklearn's [PCA](http://scikit-learn.org/stable/modules/generated/sklearn.decomposition.PCA.html) class to apply principal component analysis on the data, thus finding the vectors of maximal variance in the data. To start, you should not set any parameters (so all components are computed) or set a number of components that is at least half the number of features (so there's enough features to see the general trend in variability).\n",
    "- Check out the ratio of variance explained by each principal component as well as the cumulative variance explained. Try plotting the cumulative or sequential values using matplotlib's [`plot()`](https://matplotlib.org/api/_as_gen/matplotlib.pyplot.plot.html) function. Based on what you find, select a value for the number of transformed features you'll retain for the clustering part of the project.\n",
    "- Once you've made a choice for the number of components to keep, make sure you re-fit a PCA instance to perform the decided-on transformation."
   ]
  },
  {
   "cell_type": "code",
   "execution_count": 65,
   "metadata": {},
   "outputs": [
    {
     "data": {
      "text/plain": [
       "PCA(copy=True, iterated_power='auto', n_components=None, random_state=None,\n",
       "  svd_solver='auto', tol=0.0, whiten=False)"
      ]
     },
     "execution_count": 65,
     "metadata": {},
     "output_type": "execute_result"
    }
   ],
   "source": [
    "# Apply PCA to the data.\n",
    "#from sklearn.decomposition import PCA\n",
    "pca =PCA()\n",
    "pca.fit(azdias_low)\n"
   ]
  },
  {
   "cell_type": "code",
   "execution_count": 66,
   "metadata": {},
   "outputs": [
    {
     "data": {
      "image/png": "[encoded data removed]",
      "text/plain": [
       "<Figure size 432x288 with 2 Axes>"
      ]
     },
     "metadata": {
      "needs_background": "light"
     },
     "output_type": "display_data"
    }
   ],
   "source": [
    "# Investigate the variance accounted for by each principal component.\n",
    "plt.subplot(121)\n",
    "plt.plot(pca.explained_variance_ratio_)\n",
    "plt.grid()\n",
    "plt.xlabel('Component')\n",
    "plt.title('Variance by Component')\n",
    "plt.subplot(122)\n",
    "plt.plot(np.cumsum(pca.explained_variance_ratio_))\n",
    "plt.grid()\n",
    "plt.xlabel('# of Components')\n",
    "plt.title('Cummulative Variance');"
   ]
  },
  {
   "cell_type": "code",
   "execution_count": 67,
   "metadata": {},
   "outputs": [
    {
     "name": "stdout",
     "output_type": "stream",
     "text": [
      "With 31 components 0.8541167742591341 of variance can be explained.\n"
     ]
    }
   ],
   "source": [
    "# get the number of components that can explain 85% of the variance\n",
    "for k in range(azdias_low.shape[1]):\n",
    "    var_explained = np.sum(pca.explained_variance_ratio_[:k])\n",
    "    if var_explained >=0.85:\n",
    "        print('With {} components {} of variance can be explained.'.format(k+1, var_explained))\n",
    "        break"
   ]
  },
  {
   "cell_type": "code",
   "execution_count": 68,
   "metadata": {},
   "outputs": [],
   "source": [
    "# Re-apply PCA to the data while selecting for number of components to retain.\n",
    "\n",
    "pca = PCA(n_components=31)\n",
    "pca_data = pca.fit_transform(azdias_low)"
   ]
  },
  {
   "cell_type": "code",
   "execution_count": 69,
   "metadata": {},
   "outputs": [
    {
     "data": {
      "text/plain": [
       "(774743, 31)"
      ]
     },
     "execution_count": 69,
     "metadata": {},
     "output_type": "execute_result"
    }
   ],
   "source": [
    "pca_data.shape"
   ]
  },
  {
   "cell_type": "markdown",
   "metadata": {},
   "source": [
    "### Discussion 2.2: Perform Dimensionality Reduction\n",
    "\n",
    "The cummulative explained variance ratio as function of number of principal components shows that the incrase is most rapid for k <20; then gradaullay reduces after k > 40. Using a somewhat arbitrary threshold of 0.85, 31 principal components are needed. So 31 components are chosen for the subsequnet anlysis."
   ]
  },
  {
   "cell_type": "markdown",
   "metadata": {},
   "source": [
    "### Step 2.3: Interpret Principal Components\n",
    "\n",
    "Now that we have our transformed principal components, it's a nice idea to check out the weight of each variable on the first few components to see if they can be interpreted in some fashion.\n",
    "\n",
    "As a reminder, each principal component is a unit vector that points in the direction of highest variance (after accounting for the variance captured by earlier principal components). The further a weight is from zero, the more the principal component is in the direction of the corresponding feature. If two features have large weights of the same sign (both positive or both negative), then increases in one tend expect to be associated with increases in the other. To contrast, features with different signs can be expected to show a negative correlation: increases in one variable should result in a decrease in the other.\n",
    "\n",
    "- To investigate the features, you should map each weight to their corresponding feature name, then sort the features according to weight. The most interesting features for each principal component, then, will be those at the beginning and end of the sorted list. Use the data dictionary document to help you understand these most prominent features, their relationships, and what a positive or negative value on the principal component might indicate.\n",
    "- You should investigate and interpret feature associations from the first three principal components in this substep. To help facilitate this, you should write a function that you can call at any time to print the sorted list of feature weights, for the *i*-th principal component. This might come in handy in the next step of the project, when you interpret the tendencies of the discovered clusters."
   ]
  },
  {
   "cell_type": "code",
   "execution_count": 70,
   "metadata": {},
   "outputs": [],
   "source": [
    "# Map weights for the first principal component to corresponding feature names\n",
    "# and then print the linked values, sorted by weight.\n",
    "# HINT: Try defining a function here or in a new cell that you can reuse in the\n",
    "# other cells.\n",
    "\n",
    "def component_weight(pca, i, feature_names):\n",
    "    \"\"\" Sort and print the feature names and their corresponding weight in descending order for the i-th principal component\n",
    "        Inputs:\n",
    "            pca: the PCA object\n",
    "            i: i-th component\n",
    "            feature_names: names of the feaures\n",
    "    \"\"\"\n",
    "    feature_weight = list(zip(feature_names,pca.components_[i]))\n",
    "    feature_weight.sort(key=lambda x: np.abs(x[1]), reverse=True)\n",
    "    return feature_weight\n",
    "    "
   ]
  },
  {
   "cell_type": "code",
   "execution_count": 75,
   "metadata": {},
   "outputs": [
    {
     "data": {
      "text/plain": [
       "[('MOBI_REGIO', -0.22954226616579165),\n",
       " ('LP_STATUS_GROB', -0.2188656601626488),\n",
       " ('PLZ8_ANTG3', 0.2147100098457161),\n",
       " ('PLZ8_ANTG1', -0.2143554514640749),\n",
       " ('KBA05_ANTG1', -0.2139396583921384),\n",
       " ('PLZ8_ANTG4', 0.20901149920412646),\n",
       " ('FINANZ_MINIMALIST', -0.20627324426664415),\n",
       " ('KBA05_GBZ', -0.20586257673623426),\n",
       " ('PLZ8_BAUMAX', 0.20425511185920517),\n",
       " ('HH_EINKOMMEN_SCORE', 0.1967280981644221),\n",
       " ('wealth', 0.19584413945040133),\n",
       " ('ORTSGR_KLS9', 0.18650851459106732),\n",
       " ('EWDICHTE', 0.18437410494144799),\n",
       " ('FINANZ_HAUSBAUER', 0.16184085594223951),\n",
       " ('PLZ8_GBZ', -0.15941131562633662),\n",
       " ('KONSUMNAEHE', -0.1589233398482917),\n",
       " ('INNENSTADT', -0.15443901735859775),\n",
       " ('PLZ8_ANTG2', 0.1458400580646679),\n",
       " ('KBA05_ANTG4', 0.14476052414235807),\n",
       " ('ARBEIT', 0.13429118822163205),\n",
       " ('ZABEOTYP', 0.13375242439798532),\n",
       " ('ANZ_HAUSHALTE_AKTIV', 0.12871989240935305),\n",
       " ('KBA05_ANTG3', 0.1286879607896111),\n",
       " ('RELAT_AB', 0.12673234857239254),\n",
       " ('FINANZ_SPARER', 0.12538043831497125),\n",
       " ('BALLRAUM', -0.11862613573211124),\n",
       " ('life_stage', -0.1162209797304434),\n",
       " ('GEBAEUDETYP_RASTER', -0.11131003231530638),\n",
       " ('GREEN_AVANTGARDE', -0.10754847089292148),\n",
       " ('movement', -0.10533114051797834)]"
      ]
     },
     "execution_count": 75,
     "metadata": {},
     "output_type": "execute_result"
    }
   ],
   "source": [
    "# first component\n",
    "component_weight(pca, 0, azdias_low.columns)[:30]"
   ]
  },
  {
   "cell_type": "code",
   "execution_count": 72,
   "metadata": {},
   "outputs": [
    {
     "data": {
      "text/plain": [
       "[('ALTERSKATEGORIE_GROB', 0.26250501984367963),\n",
       " ('SEMIO_REL', -0.2559811898541271),\n",
       " ('generation', -0.252614613796229),\n",
       " ('FINANZ_SPARER', -0.24218220881113173),\n",
       " ('FINANZ_VORSORGER', 0.23428733790179926),\n",
       " ('SEMIO_TRADV', -0.23179539823671777),\n",
       " ('SEMIO_PFLICHT', -0.23174175448063777),\n",
       " ('FINANZ_UNAUFFAELLIGER', -0.23015304075760654),\n",
       " ('SEMIO_ERL', 0.22709080076767046),\n",
       " ('SEMIO_KULT', -0.21475622245252704),\n",
       " ('FINANZ_ANLEGER', -0.20885127616309598),\n",
       " ('SEMIO_LUST', 0.18364098669778448),\n",
       " ('SEMIO_FAM', -0.17942914689609574),\n",
       " ('SEMIO_RAT', -0.17607299002678867),\n",
       " ('RETOURTYP_BK_S', 0.16373449809634963),\n",
       " ('SEMIO_MAT', -0.1608122551023934),\n",
       " ('ONLINE_AFFINITAET', -0.1581125076840733),\n",
       " ('W_KEIT_KIND_HH', 0.1152894727136648),\n",
       " ('FINANZTYP', 0.11396479013555941),\n",
       " ('SEMIO_KRIT', 0.10905056517133557),\n",
       " ('SHOPPER_TYP', 0.10636976807367415),\n",
       " ('SEMIO_KAEM', 0.10132689200196425),\n",
       " ('SEMIO_SOZ', -0.09753586854937378),\n",
       " ('FINANZ_HAUSBAUER', 0.09726065211021075),\n",
       " ('FINANZ_MINIMALIST', 0.08587820997542339),\n",
       " ('ANREDE_KZ', 0.08051442104248556),\n",
       " ('EWDICHTE', 0.07857781392901571),\n",
       " ('ORTSGR_KLS9', 0.07797617520222652),\n",
       " ('PLZ8_ANTG3', 0.07772456877016225),\n",
       " ('PLZ8_ANTG1', -0.07534315718466959)]"
      ]
     },
     "execution_count": 72,
     "metadata": {},
     "output_type": "execute_result"
    }
   ],
   "source": [
    "# Map weights for the second principal component to corresponding feature names\n",
    "# and then print the linked values, sorted by weight.\n",
    "\n",
    "component_weight(pca, 1, azdias_low.columns)[:30]"
   ]
  },
  {
   "cell_type": "code",
   "execution_count": 73,
   "metadata": {},
   "outputs": [
    {
     "data": {
      "text/plain": [
       "[('ANREDE_KZ', -0.3627946638511815),\n",
       " ('SEMIO_VERT', 0.33781392929932086),\n",
       " ('SEMIO_KAEM', -0.3311126132418762),\n",
       " ('SEMIO_DOM', -0.3057306695450534),\n",
       " ('SEMIO_KRIT', -0.27038601418408637),\n",
       " ('SEMIO_SOZ', 0.25988292790510187),\n",
       " ('SEMIO_FAM', 0.2513126841314927),\n",
       " ('SEMIO_KULT', 0.23710443909429968),\n",
       " ('SEMIO_RAT', -0.20370272193910627),\n",
       " ('SEMIO_ERL', -0.1813600126410217),\n",
       " ('FINANZ_ANLEGER', -0.1786208911189028),\n",
       " ('FINANZ_MINIMALIST', 0.1521895433434872),\n",
       " ('SHOPPER_TYP', -0.12745471704632322),\n",
       " ('FINANZTYP', 0.11715933297042186),\n",
       " ('RETOURTYP_BK_S', 0.10255925904078403),\n",
       " ('generation', -0.0954680926656924),\n",
       " ('FINANZ_SPARER', -0.0953975411412441),\n",
       " ('FINANZ_UNAUFFAELLIGER', -0.09396370070356815),\n",
       " ('FINANZ_VORSORGER', 0.08833583261206371),\n",
       " ('W_KEIT_KIND_HH', 0.08455814229806913),\n",
       " ('SEMIO_REL', 0.07952821972347995),\n",
       " ('SEMIO_TRADV', -0.06730695722535664),\n",
       " ('SEMIO_PFLICHT', -0.06708229231113755),\n",
       " ('ALTERSKATEGORIE_GROB', 0.06533901910710826),\n",
       " ('ZABEOTYP', -0.06269566974722832),\n",
       " ('SEMIO_MAT', 0.06044465526185877),\n",
       " ('PLZ8_BAUMAX', 0.05381397651711507),\n",
       " ('SEMIO_LUST', 0.0534056177652666),\n",
       " ('ORTSGR_KLS9', 0.05286339947656171),\n",
       " ('GREEN_AVANTGARDE', 0.051031994439124165)]"
      ]
     },
     "execution_count": 73,
     "metadata": {},
     "output_type": "execute_result"
    }
   ],
   "source": [
    "# Map weights for the third principal component to corresponding feature names\n",
    "# and then print the linked values, sorted by weight.\n",
    "\n",
    "component_weight(pca, 2, azdias_low.columns)[:30]"
   ]
  },
  {
   "cell_type": "markdown",
   "metadata": {},
   "source": [
    "### Discussion 2.3: Interpret Principal Components\n",
    "\n",
    "The features with the largest absolute weights are tallied below for the first three princial components. For simplicity, the 15 features with the highest abolsute weights are used for each component. In the tally,  these features are from several categories and most of which are shared among the principal components. The main categories of feature are financial status, home type/community, personality and shopping habbit.\n",
    "\n",
    "Interpretation of the sign of values:\n",
    "1. A positive weight means that the correslponding feature is positively correlated to the principal component.\n",
    "2. Most of the features are ordinal in this analysis. If the weights of two features have the same sign, we may interpret that the scales of the features are of the same order. For example, in the first component, weights of financial related features are: -0.22  for LP_STATUS_GROB, 0.19 for wealth, -0.22 for FINANZ_MINIMALIST, 0.197 for HH_EINKOMMEN_SCORE, and 0.16 for FINANZ_HAUSBAUER. A larger value means more wealth for features wealth, HH_EINKOMMEN_SCORE and FINANZ_HAUSBAUER, whose weights are positive; and less wealth for LP_STATUS_GROB and FINANZ_MINIMALIST, whose weights are negative.\n",
    "\n",
    "\n",
    "First component: \n",
    "1. movement (mobility): MOBI_REGIO, \n",
    "2. Home type & community: PLZ8_ANTG3/1/4, KBA05_ANTG1, KBA05_GBZ, PLZ8_BAUMAX, ORTSGR_KLS9, EWDICHTE, PLZ8_GBZ\n",
    "3. Finacial: LP_STATUS_GROB, wealth, FINANZ_MINIMALIST, HH_EINKOMMEN_SCORE, FINANZ_HAUSBAUER\n",
    "\n",
    "Second component:\n",
    "1. Age: ALTERSKATEGORIE_GROB, generation\n",
    "2. Personality: SEMIO_REL, SEMIO_TRADV, SEMIO_PFLICHT, SEMIO_ERL, SEMIO_KULT, SEMIO_LUST, SEMIO_FAM, SEMIO_RAT\n",
    "3. Financial: FINANZ_SPARER, FINANZ_VORSORGER, FINANZ_UNAUFFAELLIGER, FINANZ_ANLEGER\n",
    "4. Shopping habit: RETOURTYP_BK_S\n",
    "\n",
    "Third component:\n",
    "1. Gender: ANREDE_KZ\n",
    "2. Personality: SEMIO_KAEM, SEMIO_DOM, SEMIO_KRIT, SEMIO_SOZ, SEMIO_FAM, SEMIO_KULT, SEMIO_RAT, SEMIO_ERL\n",
    "3. Financial: FINANZ_ANLEGER, FINANZ_MINIMALIST, FINANZTYP\n",
    "4. Shopping habit: SHOPPER_TYP, RETOURTYP_BK_S"
   ]
  },
  {
   "cell_type": "markdown",
   "metadata": {},
   "source": [
    "## Step 3: Clustering\n",
    "\n",
    "### Step 3.1: Apply Clustering to General Population\n",
    "\n",
    "You've assessed and cleaned the demographics data, then scaled and transformed them. Now, it's time to see how the data clusters in the principal components space. In this substep, you will apply k-means clustering to the dataset and use the average within-cluster distances from each point to their assigned cluster's centroid to decide on a number of clusters to keep.\n",
    "\n",
    "- Use sklearn's [KMeans](http://scikit-learn.org/stable/modules/generated/sklearn.cluster.KMeans.html#sklearn.cluster.KMeans) class to perform k-means clustering on the PCA-transformed data.\n",
    "- Then, compute the average difference from each point to its assigned cluster's center. **Hint**: The KMeans object's `.score()` method might be useful here, but note that in sklearn, scores tend to be defined so that larger is better. Try applying it to a small, toy dataset, or use an internet search to help your understanding.\n",
    "- Perform the above two steps for a number of different cluster counts. You can then see how the average distance decreases with an increasing number of clusters. However, each additional cluster provides a smaller net benefit. Use this fact to select a final number of clusters in which to group the data. **Warning**: because of the large size of the dataset, it can take a long time for the algorithm to resolve. The more clusters to fit, the longer the algorithm will take. You should test for cluster counts through at least 10 clusters to get the full picture, but you shouldn't need to test for a number of clusters above about 30.\n",
    "- Once you've selected a final number of clusters to use, re-fit a KMeans instance to perform the clustering operation. Make sure that you also obtain the cluster assignments for the general demographics data, since you'll be using them in the final Step 3.3."
   ]
  },
  {
   "cell_type": "code",
   "execution_count": 78,
   "metadata": {},
   "outputs": [],
   "source": [
    "# Over a number of different cluster counts...\n",
    "#from sklearn.cluster import KMeans\n",
    "\n",
    "    # run k-means clustering on the data and...\n",
    "    # compute the average within-cluster distances.\n",
    "k_list = list(range(2,28,2))\n",
    "distance =[]\n",
    "for k in k_list:\n",
    "    km = KMeans(n_clusters = k)\n",
    "    km.fit(pca_data)\n",
    "    distance.append(-km.score(pca_data)/pca_data.shape[0])"
   ]
  },
  {
   "cell_type": "code",
   "execution_count": 79,
   "metadata": {},
   "outputs": [
    {
     "data": {
      "image/png": "[encoded data removed]",
      "text/plain": [
       "<Figure size 432x288 with 1 Axes>"
      ]
     },
     "metadata": {
      "needs_background": "light"
     },
     "output_type": "display_data"
    }
   ],
   "source": [
    "# Investigate the change in within-cluster distance across number of clusters.\n",
    "# HINT: Use matplotlib's plot function to visualize this relationship.\n",
    "\n",
    "plt.plot(k_list, distance, 'o:')\n",
    "plt.xlabel('k-clusters')\n",
    "plt.ylabel('Average within-cluster distance')\n",
    "plt.grid()\n",
    "plt.title('Scree Plot of KMeans');"
   ]
  },
  {
   "cell_type": "code",
   "execution_count": 80,
   "metadata": {},
   "outputs": [],
   "source": [
    "# Re-fit the k-means model with the selected number of clusters and obtain\n",
    "# cluster predictions for the general population demographics data.\n",
    "km = KMeans(n_clusters=14)\n",
    "prediction = km.fit_predict(pca_data)"
   ]
  },
  {
   "cell_type": "markdown",
   "metadata": {},
   "source": [
    "### Discussion 3.1: Apply Clustering to General Population\n",
    "\n",
    "The scree plot shows that the average within-in cluster distance descreases monotoically with number of clusters, k. The decrease is steepest until k ~ 14, then more or less constant with k > 14.\n",
    "\n",
    "So k = 14 is chosen for the number of clusters.\n"
   ]
  },
  {
   "cell_type": "markdown",
   "metadata": {},
   "source": [
    "### Step 3.2: Apply All Steps to the Customer Data\n",
    "\n",
    "Now that you have clusters and cluster centers for the general population, it's time to see how the customer data maps on to those clusters. Take care to not confuse this for re-fitting all of the models to the customer data. Instead, you're going to use the fits from the general population to clean, transform, and cluster the customer data. In the last step of the project, you will interpret how the general population fits apply to the customer data.\n",
    "\n",
    "- Don't forget when loading in the customers data, that it is semicolon (`;`) delimited.\n",
    "- Apply the same feature wrangling, selection, and engineering steps to the customer demographics using the `clean_data()` function you created earlier. (You can assume that the customer demographics data has similar meaning behind missing data patterns as the general demographics data.)\n",
    "- Use the sklearn objects from the general demographics data, and apply their transformations to the customers data. That is, you should not be using a `.fit()` or `.fit_transform()` method to re-fit the old objects, nor should you be creating new sklearn objects! Carry the data through the feature scaling, PCA, and clustering steps, obtaining cluster assignments for all of the data in the customer demographics data."
   ]
  },
  {
   "cell_type": "code",
   "execution_count": 81,
   "metadata": {},
   "outputs": [],
   "source": [
    "# Load in the customer demographics data.\n",
    "customers_all = pd.read_csv('Udacity_CUSTOMERS_Subset.csv', sep=';')"
   ]
  },
  {
   "cell_type": "code",
   "execution_count": 82,
   "metadata": {},
   "outputs": [],
   "source": [
    "# Apply preprocessing, feature transformation, and clustering from the general\n",
    "# demographics onto the customer data, obtaining cluster predictions for the\n",
    "# customer demographics data.\n",
    "customers = clean_data(customers_all)  # clean data\n",
    "customers = pd.DataFrame(data=scaler.transform(imputer.transform(customers)), columns=customers.columns) # scale data\n",
    "customers_pca = pca.transform(customers)  #PCA dimentionality redcution\n",
    "customers_prediction = km.predict(customers_pca)"
   ]
  },
  {
   "cell_type": "code",
   "execution_count": 83,
   "metadata": {},
   "outputs": [
    {
     "name": "stdout",
     "output_type": "stream",
     "text": [
      "Data size before data cleaning (191652, 85) \n",
      "Data size after data cleaning (130473, 72)\n"
     ]
    }
   ],
   "source": [
    "# size of customer data before and after cleaning\n",
    "print('Data size before data cleaning', customers_all.shape, '\\nData size after data cleaning', customers.shape)"
   ]
  },
  {
   "cell_type": "markdown",
   "metadata": {},
   "source": [
    "### Step 3.3: Compare Customer Data to Demographics Data\n",
    "\n",
    "At this point, you have clustered data based on demographics of the general population of Germany, and seen how the customer data for a mail-order sales company maps onto those demographic clusters. In this final substep, you will compare the two cluster distributions to see where the strongest customer base for the company is.\n",
    "\n",
    "Consider the proportion of persons in each cluster for the general population, and the proportions for the customers. If we think the company's customer base to be universal, then the cluster assignment proportions should be fairly similar between the two. If there are only particular segments of the population that are interested in the company's products, then we should see a mismatch from one to the other. If there is a higher proportion of persons in a cluster for the customer data compared to the general population (e.g. 5% of persons are assigned to a cluster for the general population, but 15% of the customer data is closest to that cluster's centroid) then that suggests the people in that cluster to be a target audience for the company. On the other hand, the proportion of the data in a cluster being larger in the general population than the customer data (e.g. only 2% of customers closest to a population centroid that captures 6% of the data) suggests that group of persons to be outside of the target demographics.\n",
    "\n",
    "Take a look at the following points in this step:\n",
    "\n",
    "- Compute the proportion of data points in each cluster for the general population and the customer data. Visualizations will be useful here: both for the individual dataset proportions, but also to visualize the ratios in cluster representation between groups. Seaborn's [`countplot()`](https://seaborn.pydata.org/generated/seaborn.countplot.html) or [`barplot()`](https://seaborn.pydata.org/generated/seaborn.barplot.html) function could be handy.\n",
    "  - Recall the analysis you performed in step 1.1.3 of the project, where you separated out certain data points from the dataset if they had more than a specified threshold of missing values. If you found that this group was qualitatively different from the main bulk of the data, you should treat this as an additional data cluster in this analysis. Make sure that you account for the number of data points in this subset, for both the general population and customer datasets, when making your computations!\n",
    "- Which cluster or clusters are overrepresented in the customer dataset compared to the general population? Select at least one such cluster and infer what kind of people might be represented by that cluster. Use the principal component interpretations from step 2.3 or look at additional components to help you make this inference. Alternatively, you can use the `.inverse_transform()` method of the PCA and StandardScaler objects to transform centroids back to the original data space and interpret the retrieved values directly.\n",
    "- Perform a similar investigation for the underrepresented clusters. Which cluster or clusters are underrepresented in the customer dataset compared to the general population, and what kinds of people are typified by these clusters?"
   ]
  },
  {
   "cell_type": "code",
   "execution_count": 84,
   "metadata": {},
   "outputs": [
    {
     "data": {
      "image/png": "[encoded data removed]",
      "text/plain": [
       "<Figure size 432x288 with 2 Axes>"
      ]
     },
     "metadata": {
      "needs_background": "light"
     },
     "output_type": "display_data"
    }
   ],
   "source": [
    "# Compare the proportion of data in each cluster for the customer data to the\n",
    "# proportion of data in each cluster for the general population.\n",
    "\n",
    "# culster index\n",
    "cluster_id = np.arange(15) # 14 clusters in KMeans and 1 cluster for data points with >10 missing columns\n",
    "#population\n",
    "population_cluster_size = list(np.unique(prediction, return_counts=True)[1]) #number of data points in each cluster in KMeans\n",
    "population_cluster_size.append(azdias_high.shape[0]) #number of data points in the cluster with high numner of missing columns\n",
    "\n",
    "# customer\n",
    "customers_cluster_size = list(np.unique(customers_prediction, return_counts=True)[1])\n",
    "customers_cluster_size.append(customers_all.shape[0] - customers.shape[0])\n",
    "\n",
    "plt.subplot(121)\n",
    "sns.barplot(x=cluster_id, y=population_cluster_size/np.sum(population_cluster_size))\n",
    "plt.title('Population')\n",
    "plt.xlabel('Cluster ID')\n",
    "plt.ylim(0, 0.35)\n",
    "#plt.ylimit(0, 0.35)\n",
    "plt.subplot(122)\n",
    "sns.barplot(x=cluster_id, y=customers_cluster_size/np.sum(customers_cluster_size))\n",
    "plt.title('Customers')\n",
    "plt.xlabel('Cluster ID')\n",
    "plt.ylim(0, 0.35)\n",
    "#plt.ylimit(0, 0.35)\n",
    "plt.subplots_adjust(wspace =0.4, hspace=0.8, top = 0.5, bottom=-0.2)\n",
    "#population_cluster_size, customers_cluster_size"
   ]
  },
  {
   "cell_type": "code",
   "execution_count": 88,
   "metadata": {},
   "outputs": [
    {
     "data": {
      "text/plain": [
       "array([-3.6794729 ,  0.18710308,  2.78674502,  2.45553074, -0.0959988 ,\n",
       "       -0.19805855,  0.1527866 ,  0.07225682, -0.09842669,  0.17007586,\n",
       "       -0.23594992,  0.0430832 , -0.0429596 , -0.20015204, -0.37657036,\n",
       "        0.12156466, -0.02889356, -0.06168979, -0.24131842,  0.03969163,\n",
       "       -0.28651299, -0.19104437,  0.04724487, -0.0927047 ,  0.02169701,\n",
       "        0.11850566,  0.03706044, -0.02517855,  0.0822247 , -0.03905947,\n",
       "        0.00826988])"
      ]
     },
     "execution_count": 88,
     "metadata": {},
     "output_type": "execute_result"
    }
   ],
   "source": [
    "# What kinds of people are part of a cluster that is overrepresented in the\n",
    "# customer data compared to the general population?\n",
    "# People in cluster 7 are overrepresented in the customer data. \n",
    "km.cluster_centers_[7]"
   ]
  },
  {
   "cell_type": "code",
   "execution_count": 104,
   "metadata": {},
   "outputs": [],
   "source": [
    "# Transform centeroid back into original data space\n",
    "centeroid_original_space_cluster7 = pd.Series(data=scaler.inverse_transform(pca.inverse_transform(km.cluster_centers_[7])), \n",
    "                                                                            index=customers.columns)"
   ]
  },
  {
   "cell_type": "code",
   "execution_count": 106,
   "metadata": {},
   "outputs": [
    {
     "data": {
      "text/plain": [
       "MOBI_REGIO              4.125739\n",
       "PLZ8_ANTG1              2.775849\n",
       "PLZ8_ANTG3              1.199135\n",
       "PLZ8_ANTG4              0.393972\n",
       "LP_STATUS_GROB          4.456794\n",
       "wealth                  2.077875\n",
       "FINANZ_MINIMALIST       4.839328\n",
       "HH_EINKOMMEN_SCORE      2.371585\n",
       "FINANZ_HAUSBAUER        1.903201\n",
       "ALTERSKATEGORIE_GROB    3.276026\n",
       "generation              2.584653\n",
       "ANREDE_KZ               1.065877\n",
       "SEMIO_REL               3.797433\n",
       "SEMIO_TRADV             3.129581\n",
       "SEMIO_PFLICHT           3.311971\n",
       "SEMIO_ERL               4.112107\n",
       "SEMIO_KULT              4.870985\n",
       "SEMIO_LUST              5.343408\n",
       "SEMIO_FAM               4.869203\n",
       "SEMIO_RAT               2.702894\n",
       "SHOPPER_TYP             1.285834\n",
       "RETOURTYP_BK_S          3.985982\n",
       "dtype: float64"
      ]
     },
     "execution_count": 106,
     "metadata": {},
     "output_type": "execute_result"
    }
   ],
   "source": [
    "# list the  values for some key parameters identfied in PCA analysis\n",
    "centeroid_original_space_cluster7[['MOBI_REGIO', 'PLZ8_ANTG1', 'PLZ8_ANTG3', 'PLZ8_ANTG4', 'LP_STATUS_GROB',\n",
    "                            'wealth', 'FINANZ_MINIMALIST', 'HH_EINKOMMEN_SCORE', 'FINANZ_HAUSBAUER', \n",
    "                            'ALTERSKATEGORIE_GROB', 'generation', \n",
    "                            'ANREDE_KZ',\n",
    "                            'SEMIO_REL', 'SEMIO_TRADV', 'SEMIO_PFLICHT', 'SEMIO_ERL', 'SEMIO_KULT', 'SEMIO_LUST', 'SEMIO_FAM', 'SEMIO_RAT',\n",
    "                            'SHOPPER_TYP', 'RETOURTYP_BK_S']]"
   ]
  },
  {
   "cell_type": "code",
   "execution_count": null,
   "metadata": {},
   "outputs": [],
   "source": [
    "#Customers represeted by the centeroid of cluster 7 have the following average characteristics:\n",
    "#Low movement (MOBI_REGIO =4.1), \n",
    "# Own house (FINANZ_HAUSBAUER=1.9 and LP_STATUS_GROB=4.5) or live in house with 1-2 families (PLZ8_ANTG1=2.8,  PLZ8_ANTG3=1.2, PLZ8_ANTG4=0.4), \n",
    "#financially well off:  \n",
    "#  high to very high household income (HH_EINKOMMEN_SCORE=2.4)\n",
    "#  prosperous household (wealth =2.1)\n",
    "#  high interest in finance (high FINANZ_MINIMALIST=4.8)\n",
    "# age in 60s to 70s (generation=2.6)\n",
    "# male (ANREDE_KZ=1.1)\n",
    "#Shopping stressed or family-shoppers (SHOPPER_TYP=1.3) and conservative Low-Returners (RETOURTYP_BK_S=3.99)\n",
    "# highly tradition-minded (SEMIO_TRADV=3.1)\n",
    "#average to high degree of dutifulness (SEMIO_PFLICHT=3.3)\n",
    "#highly rational (SEMIO_RAT=2.7)"
   ]
  },
  {
   "cell_type": "code",
   "execution_count": 108,
   "metadata": {},
   "outputs": [
    {
     "data": {
      "text/plain": [
       "MOBI_REGIO              1.548586\n",
       "PLZ8_ANTG1              1.131223\n",
       "PLZ8_ANTG3              2.704516\n",
       "PLZ8_ANTG4              1.595470\n",
       "LP_STATUS_GROB          0.913342\n",
       "wealth                  4.553640\n",
       "FINANZ_MINIMALIST       1.136049\n",
       "HH_EINKOMMEN_SCORE      5.655124\n",
       "FINANZ_HAUSBAUER        4.296340\n",
       "ALTERSKATEGORIE_GROB    1.695805\n",
       "generation              4.525196\n",
       "ANREDE_KZ               1.997749\n",
       "SEMIO_REL               5.386224\n",
       "SEMIO_TRADV             5.546261\n",
       "SEMIO_PFLICHT           6.212575\n",
       "SEMIO_ERL               4.327455\n",
       "SEMIO_KULT              4.178675\n",
       "SEMIO_LUST              3.126088\n",
       "SEMIO_FAM               4.008376\n",
       "SEMIO_RAT               6.150779\n",
       "SHOPPER_TYP             1.740759\n",
       "RETOURTYP_BK_S          2.747538\n",
       "dtype: float64"
      ]
     },
     "execution_count": 108,
     "metadata": {},
     "output_type": "execute_result"
    }
   ],
   "source": [
    "# What kinds of people are part of a cluster that is underrepresented in the\n",
    "# customer data compared to the general population?\n",
    "#People in cluster 6 are underrepresented in the customer data\n",
    "\n",
    "# Transform centeroid back into original data space\n",
    "centeroid_original_space_cluster6 = pd.Series(data=scaler.inverse_transform(pca.inverse_transform(km.cluster_centers_[6])), \n",
    "                                                                            index=customers.columns)\n",
    "# list the  values for some key parameters identfied in PCA analysis\n",
    "centeroid_original_space_cluster6[['MOBI_REGIO', 'PLZ8_ANTG1', 'PLZ8_ANTG3', 'PLZ8_ANTG4', 'LP_STATUS_GROB',\n",
    "                            'wealth', 'FINANZ_MINIMALIST', 'HH_EINKOMMEN_SCORE', 'FINANZ_HAUSBAUER', \n",
    "                            'ALTERSKATEGORIE_GROB', 'generation', \n",
    "                            'ANREDE_KZ',\n",
    "                            'SEMIO_REL', 'SEMIO_TRADV', 'SEMIO_PFLICHT', 'SEMIO_ERL', 'SEMIO_KULT', 'SEMIO_LUST', 'SEMIO_FAM', 'SEMIO_RAT',\n",
    "                            'SHOPPER_TYP', 'RETOURTYP_BK_S']]"
   ]
  },
  {
   "cell_type": "code",
   "execution_count": null,
   "metadata": {},
   "outputs": [],
   "source": [
    "#Non-customers represeted by the centeroid of cluster 6 have the following average characteristics:\n",
    "#High to very high movement (MOBI_REGIO =1.5), \n",
    "# Low house ownership house (FINANZ_HAUSBAUER=4.3) or live in house with 6-10+ families (PLZ8_ANTG1=1.1,  PLZ8_ANTG3=2.7, PLZ8_ANTG4=1.6), \n",
    "#financial:  \n",
    "#  low to very low household income (LP_STATUS_GROB=0.9 and HH_EINKOMMEN_SCORE=5.7)\n",
    "#  Less affluent household (wealth =4.6)\n",
    "#  little interest in finance (high FINANZ_MINIMALIST=1.1)\n",
    "# age over 80s (generation=4.5)\n",
    "# female (ANREDE_KZ=2)\n",
    "#family-shoppers (SHOPPER_TYP=1.7) and normal to heavy Returners (RETOURTYP_BK_S=2.7)\n",
    "# low tradition-minded (SEMIO_TRADV=5.5)\n",
    "#low degree of dutifulness (SEMIO_PFLICHT=6.2)\n",
    "#very irrational (SEMIO_RAT=6.2)"
   ]
  },
  {
   "cell_type": "markdown",
   "metadata": {},
   "source": [
    "### Discussion 3.3: Compare Customer Data to Demographics Data\n",
    "\n",
    "The KMeans clustering model is generated with general population. After the model is applied to the customer data, the proportion of people in each cluster is compared between the general population and the customer data. In the customer population some clusters are overrepresented and some are underrepresented, compared with the general population.\n",
    "\n",
    "Analysis of the overrepresented cluster shows that the customers tend to have the following characteristics: male, aged 60-70, highly interested in finance, with high to very high household income, home owner or with residence in houses with 1-2 families, highly tradition-minded and dutiful, unlikely to return merchandises when shopping.\n",
    "\n",
    "Analysis of the underrepresented cluster shows that the non-customers tend to have the characteristics almost opposite to that of the customers: female, aged in 80s, uninterested in finance, with low to very low income, not owning home and living in houses with 6-10 or more families, very irrational, low tradition-minded and not dutiful, very likely to return merchandise when shopping."
   ]
  },
  {
   "cell_type": "markdown",
   "metadata": {},
   "source": [
    "> Congratulations on making it this far in the project! Before you finish, make sure to check through the entire notebook from top to bottom to make sure that your analysis follows a logical flow and all of your findings are documented in **Discussion** cells. Once you've checked over all of your work, you should export the notebook as an HTML document to submit for evaluation. You can do this from the menu, navigating to **File -> Download as -> HTML (.html)**. You will submit both that document and this notebook for your project submission."
   ]
  },
  {
   "cell_type": "code",
   "execution_count": null,
   "metadata": {},
   "outputs": [],
   "source": []
  }
 ],
 "metadata": {
  "kernelspec": {
   "display_name": "Python 3",
   "language": "python",
   "name": "python3"
  },
  "language_info": {
   "codemirror_mode": {
    "name": "ipython",
    "version": 3
   },
   "file_extension": ".py",
   "mimetype": "text/x-python",
   "name": "python",
   "nbconvert_exporter": "python",
   "pygments_lexer": "ipython3",
   "version": "3.7.0"
  }
 },
 "nbformat": 4,
 "nbformat_minor": 2
}
